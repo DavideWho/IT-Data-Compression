{
 "cells": [
  {
   "cell_type": "markdown",
   "metadata": {},
   "source": [
    "1. Define a function that, given a text, creates the corresponding discrete \n",
    "source"
   ]
  },
  {
   "cell_type": "code",
   "execution_count": 416,
   "metadata": {},
   "outputs": [
    {
     "name": "stdout",
     "output_type": "stream",
     "text": [
      "Occorrenze di ogni lettera nel testo:\n",
      "m: 0.5\n",
      "a: 0.375\n",
      "i: 0.125\n"
     ]
    }
   ],
   "source": [
    "\n",
    "def conta_occurrenze_lettere(testo):\n",
    "    # Crea un dizionario per tenere traccia delle occorrenze di ogni lettera\n",
    "    code = {}\n",
    "    testo = testo.replace(' ', '')\n",
    "    # Conta le occorrenze di ogni lettera nel testo\n",
    "    for char in testo:\n",
    "        # Ignora gli spazi vuoti\n",
    "        if char != ' ':\n",
    "            code[char.lower()] = round(testo.count(char.lower())/len(testo), 5)\n",
    "    code = sorted(code.items(), key=lambda x: x[1], reverse=True)\n",
    "    symbols = [item[0] for item in code]\n",
    "    probs = [item[1] for item in code]\n",
    "\n",
    "    return symbols, probs\n",
    "\n",
    "# Esempio di testo\n",
    "testo = \"mamma mia\"\n",
    "\n",
    "# Conta le occorrenze di ogni lettera nel testo\n",
    "symbs, probs = conta_occurrenze_lettere(testo)\n",
    "\n",
    "# Stampare le occorrenze di ogni lettera\n",
    "print(\"Occorrenze di ogni lettera nel testo:\")\n",
    "for s in symbs:\n",
    "    print(f\"{s}: {probs[symbs.index(s)]}\")\n",
    " \n"
   ]
  },
  {
   "cell_type": "markdown",
   "metadata": {},
   "source": [
    "2. Add a method Huffman to the class Source that computes the Huffman \n",
    "encoding. "
   ]
  },
  {
   "cell_type": "code",
   "execution_count": 417,
   "metadata": {},
   "outputs": [],
   "source": [
    "import heapq\n",
    "import matplotlib.pyplot as plt"
   ]
  },
  {
   "cell_type": "code",
   "execution_count": 418,
   "metadata": {},
   "outputs": [],
   "source": [
    "class Node:\n",
    "    def __init__(self, characters, float_number, left=None, right=None):\n",
    "        self.characters = characters\n",
    "        self.float_number = float_number\n",
    "        self.left = left\n",
    "        self.right = right\n",
    "\n",
    "\n",
    "    "
   ]
  },
  {
   "cell_type": "code",
   "execution_count": 419,
   "metadata": {},
   "outputs": [],
   "source": [
    "class Source:\n",
    "    def __init__(self, probabilities, *symbols):\n",
    "        if not isinstance(probabilities, list):\n",
    "            raise ValueError(\"Probabilities must be a non-empty list\")\n",
    "        if not symbols or len(symbols) != len(probabilities):\n",
    "            self.symbols = [str(i) for i in range(len(probabilities))]\n",
    "        else:\n",
    "            self.symbols = symbols     \n",
    "        if not all(isinstance(p, (int, float)) and 0 <= p <= 1 for p in probabilities):\n",
    "            raise ValueError(\"All probabilities must be numbers between 0 and 1\")\n",
    "        if round(sum(probabilities),5) != 1:\n",
    "            raise ValueError(\"Probabilities must sum to 1\")\n",
    "        self.probabilities = probabilities\n",
    "        self.size=len(probabilities)\n",
    "        #Several alternatives:  #dictionary of probabilities\n",
    "        self.prob = {self.symbols[i]:self.probabilities[i] for i in range(len(probabilities))} \n",
    "        #or\n",
    "        self.mappa= list(zip(self.symbols,self.probabilities))\n",
    "    \n",
    "        \n",
    "    def entropy(self, d=2):\n",
    "        import math\n",
    "        entropy = 0\n",
    "        for probability in self.probabilities:\n",
    "            entropy -= probability * math.log(probability,d)\n",
    "        return entropy\n",
    "    \n",
    "    def __str__(self):\n",
    "        return self.mappa.__str__()\n",
    "        \n",
    "    def compute_average_code_length(self,code):\n",
    "        if len(code) != self.size:\n",
    "            raise ValueError(\"Code and probabilities must have the same length\")\n",
    "        average_length = 0\n",
    "        for i in range(len(code)):\n",
    "            average_length += len(code[i]) * self.probabilities[i]\n",
    "        return average_length\n",
    "\n",
    "    def efficiency(self,code, d=2):\n",
    "        entropy = self.entropy(d)\n",
    "        average_length = self.compute_average_code_length(code)\n",
    "        return (entropy - average_length) / entropy\n",
    "\n",
    "    def redudancy(self,code):\n",
    "        return 1 - self.efficiency(code)\n",
    "    \n",
    "    def kraft_mcmillan(self,lengths, d=2):\n",
    "        return sum([d**(-lengths[i]) for i in range(self.size)])<=1\n",
    "    \n",
    "    def create_prefix_code(self,lengths, d=2):\n",
    "        if not self.kraft_mcmillan(lengths,d):\n",
    "            return []\n",
    "        else:\n",
    "            code=[]\n",
    "\n",
    "            #ADD THE CODE HERE\n",
    "\n",
    "            return code\n",
    "    \n",
    "    def shannon_fano(self):\n",
    "        pass\n",
    "\n",
    "    def shannon_encoding(self, d=2):\n",
    "        pass\n",
    "           \n",
    "    def huffman(self, text):\n",
    "        temp = []\n",
    "        symbols, probs = conta_occurrenze_lettere(text)\n",
    "\n",
    "        # Inserisci i nodi iniziali nella struttura temporanea\n",
    "        for s in symbols:\n",
    "            y = Node(s, probs[symbols.index(s)])\n",
    "            temp.append(y)\n",
    "\n",
    "        # Costruisci l'albero di Huffman bottom-up\n",
    "        while len(temp) > 1:\n",
    "            # Unisci i due nodi più piccoli\n",
    "            temp = sorted(temp, key=lambda x: x.float_number)\n",
    "            a = temp.pop(0)\n",
    "            b = temp.pop(0)\n",
    "            merged_characters = a.characters + b.characters\n",
    "            merged_float_number = a.float_number + b.float_number\n",
    "            new_node = Node(merged_characters, merged_float_number, left=a, right=b)\n",
    "            temp.append(new_node)\n",
    "            #print(new_node.characters, new_node.float_number)\n",
    "        root = temp[0]\n",
    "\n",
    "        # Stampare l'albero binario di Huffman\n",
    "        code = print_huffman_tree(root)\n",
    "        \n",
    "        return root, code\n",
    "\n",
    "\n",
    "def print_huffman_tree(node, prefix='', code=[]):\n",
    "    if node is not None:\n",
    "        if node.left is None and node.right is None:\n",
    "            stringa = f\"Character: {node.characters}, Probability: {node.float_number}, Huffman Code: {prefix}\"\n",
    "            print(stringa)\n",
    "            code.append(stringa)\n",
    "        else:\n",
    "            print_huffman_tree(node.left, prefix + '0', code)\n",
    "            print_huffman_tree(node.right, prefix + '1', code)\n",
    "    return code\n",
    "\n",
    "def extract_code(huffman_output):\n",
    "    code = {}\n",
    "    for item in huffman_output:\n",
    "        char = item.split(',')[0][11]\n",
    "        code[char] = item.split(',')[2][15:]\n",
    "    return code\n",
    "\n",
    "def codingText(text, code):\n",
    "    codedText = ''\n",
    "    for char in text:\n",
    "        if char != ' ':\n",
    "            codedText += code[char]\n",
    "    return codedText      \n",
    "    \n"
   ]
  },
  {
   "cell_type": "code",
   "execution_count": 420,
   "metadata": {},
   "outputs": [],
   "source": [
    "def plot_huffman_tree(node, x=0, y=0, dx=1, dy=0.8, ax=None):\n",
    "    if ax is None:\n",
    "        _, ax = plt.subplots()\n",
    "    \n",
    "    if node is not None:\n",
    "        # Disegna il nodo\n",
    "        ax.text(x, y, str(f'{node.characters} \\n{node.float_number}'), ha='center', va='center', bbox=dict(facecolor='white', edgecolor='black'), zorder=2)  # Testo del nodo\n",
    "        \n",
    "        # Disegna i rami\n",
    "        if node.left is not None:\n",
    "            plot_huffman_tree(node.left, x - dx, y - dy, dx / 2, dy, ax)\n",
    "            ax.text(x - dx/2, y - dy/2 + 0.1, '0', ha='center', va='center', zorder=2)  # Alza leggermente '0' sopra il ramo sinistro\n",
    "        if node.right is not None:\n",
    "            plot_huffman_tree(node.right, x + dx, y - dy, dx / 2, dy, ax)\n",
    "            ax.text(x + dx/2, y - dy/2 + 0.1, '1', ha='center', va='center', zorder=2)  # Alza leggermente '1' sopra il ramo destro\n",
    "        \n",
    "        # Disegna il ramo sopra il nodo\n",
    "        if node.left is not None:\n",
    "            ax.plot([x, x - dx], [y, y - dy], 'k-', zorder=1)  # Ramo sinistro\n",
    "        if node.right is not None:\n",
    "            ax.plot([x, x + dx], [y, y - dy], 'k-', zorder=1)  # Ramo destro"
   ]
  },
  {
   "cell_type": "code",
   "execution_count": 421,
   "metadata": {},
   "outputs": [
    {
     "name": "stdout",
     "output_type": "stream",
     "text": [
      "Character: m, Probability: 0.5, Huffman Code: 0\n",
      "Character: i, Probability: 0.125, Huffman Code: 10\n",
      "Character: a, Probability: 0.375, Huffman Code: 11\n"
     ]
    },
    {
     "data": {
      "image/png": "[encoded data removed]",
      "text/plain": [
       "<Figure size 1000x800 with 1 Axes>"
      ]
     },
     "metadata": {},
     "output_type": "display_data"
    }
   ],
   "source": [
    "text = \"mamma mia\"\n",
    "symbols, probs = conta_occurrenze_lettere(text)\n",
    "\n",
    "x = Source(probs, symbs)\n",
    "huffman_tree, _ = x.huffman(text)\n",
    "\n",
    "fig, ax = plt.subplots(figsize=(10, 8))\n",
    "plot_huffman_tree(huffman_tree, ax=ax)\n",
    "ax.set_axis_off()\n",
    "plt.show()\n"
   ]
  },
  {
   "cell_type": "markdown",
   "metadata": {},
   "source": [
    "3. Write a program that, given an input text, finds the Huffman encoding of the \n",
    "text. A decoding procedure to recover the original message by starting from \n",
    "the Huffman encoding is also required.\n"
   ]
  },
  {
   "cell_type": "code",
   "execution_count": 426,
   "metadata": {},
   "outputs": [
    {
     "name": "stdout",
     "output_type": "stream",
     "text": [
      "Character: m, Probability: 0.5, Huffman Code: 0\n",
      "Character: i, Probability: 0.125, Huffman Code: 10\n",
      "Character: a, Probability: 0.375, Huffman Code: 11\n",
      "{'m': '0', 'i': '10', 'a': '11'}\n",
      "mamma mia :\n",
      "011001101011\n"
     ]
    }
   ],
   "source": [
    "# Generate Huffman code for the text\n",
    "text = \"mamma mia\"\n",
    "symbols, probs = conta_occurrenze_lettere(text)\n",
    "x = Source(probs, symbs)\n",
    "huffman_tree, code= x.huffman(text)\n",
    "\n",
    "\n",
    "code = extract_code(code)\n",
    "print(code)\n",
    "\n",
    "print(text,':')\n",
    "codedText = codingText(text, code)\n",
    "print(codedText)  "
   ]
  },
  {
   "cell_type": "markdown",
   "metadata": {},
   "source": [
    "DECODIFICA:"
   ]
  },
  {
   "cell_type": "code",
   "execution_count": 432,
   "metadata": {},
   "outputs": [
    {
     "name": "stdout",
     "output_type": "stream",
     "text": [
      "mammamia\n"
     ]
    }
   ],
   "source": [
    "\n",
    "def decodeText(codedText, code):\n",
    "    \n",
    "    decodedText = ''\n",
    "    temp = ''\n",
    "    for char in codedText:\n",
    "        temp += char\n",
    "        for key, value in code.items():\n",
    "            if temp == value:\n",
    "                decodedText += key\n",
    "                temp = ''\n",
    "    return decodedText\n",
    "\n",
    "print(decodeText(codedText, code))"
   ]
  }
 ],
 "metadata": {
  "kernelspec": {
   "display_name": "Python 3",
   "language": "python",
   "name": "python3"
  },
  "language_info": {
   "codemirror_mode": {
    "name": "ipython",
    "version": 3
   },
   "file_extension": ".py",
   "mimetype": "text/x-python",
   "name": "python",
   "nbconvert_exporter": "python",
   "pygments_lexer": "ipython3",
   "version": "3.11.3"
  }
 },
 "nbformat": 4,
 "nbformat_minor": 2
}
