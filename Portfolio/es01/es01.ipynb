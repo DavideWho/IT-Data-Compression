{
 "cells": [
  {
   "cell_type": "markdown",
   "metadata": {},
   "source": [
    "<img src=\"imgs/img1.png\">"
   ]
  },
  {
   "cell_type": "markdown",
   "metadata": {},
   "source": [
    "VERSIONE CON TUTTI E 3 I CONTROLLI:"
   ]
  },
  {
   "cell_type": "code",
   "execution_count": null,
   "metadata": {},
   "outputs": [],
   "source": [
    "def colonne_uguali(matrice, colonna1, colonna2):\n",
    "    # Verifica se le due colonne hanno la stessa lunghezza\n",
    "    if len(matrice) != len(colonna1) or len(matrice) != len(colonna2):\n",
    "        return False\n",
    "    \n",
    "    # Itera su entrambe le colonne contemporaneamente\n",
    "    for riga in matrice:\n",
    "        # Ottieni gli elementi corrispondenti delle due colonne\n",
    "        elemento_colonna1 = riga[colonna1]\n",
    "        elemento_colonna2 = riga[colonna2]\n",
    "        \n",
    "        # Confronta gli elementi corrispondenti delle due colonne\n",
    "        if elemento_colonna1 != elemento_colonna2:\n",
    "            return False\n",
    "    \n",
    "    # Se nessun elemento differisce, le colonne sono uguali\n",
    "    return True"
   ]
  },
  {
   "cell_type": "code",
   "execution_count": 161,
   "metadata": {},
   "outputs": [],
   "source": [
    "def sardinasPattersonSi(s0, s_i, i, matrix, notUD=False, why=\"\"):\n",
    "    # Check if the iteration limit has been reached\n",
    "    if i == 0:\n",
    "        # Check if there exists at least one pair of equal sets S\n",
    "        if ((set(s_new)&set(matrix[j]) for j in range(len(matrix)))):                   \n",
    "            print(\"Unique Deterministic Code\\nThere exists at least one pair of equal sets S.\")       \n",
    "        return s_i\n",
    "    \n",
    "    # Calculate the current state number\n",
    "    nState = len(s0)-i+1\n",
    "\n",
    "    s_new = []\n",
    "    for a in s0:\n",
    "        for b in s_i:\n",
    "            w_a = a[len(b):]\n",
    "            w_b = b[len(a):]\n",
    "            # Check if 'a' is a prefix of 'b'\n",
    "            if a != b and a.startswith(b) and w_a not in s_new:\n",
    "                s_new.append(w_a)\n",
    "                if w_a in s0:  \n",
    "                    notUD = True\n",
    "                    why = f\"Because {w_a} of S_{nState} is in S0\"\n",
    "            # Check if 'b' is a prefix of 'a'\n",
    "            elif a != b and b.startswith(a) and w_b not in s_new:\n",
    "                s_new.append(w_b)\n",
    "                if w_b in s0: \n",
    "                    notUD = True\n",
    "                    why = f\"Because {w_b} of S_{nState} is in S0\"\n",
    "\n",
    "    # Check if there are no new generated sets S\n",
    "    if not s_new:                                                                       \n",
    "        return print(\"Unique Deterministic Code\\nbecause there is an S_i empty\") \n",
    "    \n",
    "    # Add the new sets S to the matrix\n",
    "    matrix[nState - 1].extend(s_new)\n",
    "\n",
    "    # Check if there are non-unique sets S\n",
    "    if notUD:                                                                          \n",
    "        return print(\"Not Unique Deterministic Code\\n\", why)\n",
    "    \n",
    "    # Recursive call with 'i' decremented\n",
    "    return sardinasPattersonSi(s0, s_new, i - 1, matrix, notUD)"
   ]
  },
  {
   "cell_type": "code",
   "execution_count": 172,
   "metadata": {},
   "outputs": [],
   "source": [
    "#s0 = [\"a\", \"c\", \"ad\", \"abb\", \"bad\", \"deb\", \"bbcde\"]                         # --> NOT UD  per il primo controllo\n",
    "#s0 = [\"010\", \"0001\", \"0110\", \"1100\", \"00011\", \"00110\", \"11110\", \"101011\"]   # --> NOT UD per il primo controllo\n",
    "#s0 = [\"0\", \"01\", \"011\"]                                                     # --> UD per il secondo controllo\n",
    "#s0 = [\"00\", \"01\", \"10\", \"11\"]                                               # --> UD per il secondo controllo\n",
    "#s0 = [\"012\", \"0123\", \"4\", \"310\", \"1024\", \"2402\", \"2401\", \"4013\"]            # --> UD per terzo controllo\n",
    "#s0 = [\"10\", \"010\", \"1\", \"1110\"]                                             # --> NOT UD per il primo controllo\n",
    "#s0 = [\"0\", \"001\", \"101\", \"11\" ]                                              # --> UD per il terzo controllo\n",
    "#s0 = [\"0\", \"2\", \"03\", \"011\", \"104\", \"341\", \"11234\"]                         # --> UD per il secondo controllo    \n",
    "#s0 = [\"01\",\"10\",\"001\",\"100\",\"000\",\"111\"]                                    # --> non UD per il primo controllo"
   ]
  },
  {
   "cell_type": "code",
   "execution_count": 173,
   "metadata": {},
   "outputs": [
    {
     "name": "stdout",
     "output_type": "stream",
     "text": [
      "Unique Deterministic Code\n",
      "There exists at least one pair of equal sets S.\n",
      "S_1: ['3', '013']\n",
      "S_2: ['10']\n",
      "S_3: ['24']\n",
      "S_4: ['02', '01']\n",
      "S_5: ['2', '23']\n",
      "S_6: ['402', '401']\n",
      "S_7: ['02', '01', '3']\n",
      "S_8: ['2', '23', '10']\n"
     ]
    }
   ],
   "source": [
    "def main():\n",
    "        \n",
    "    # Inizializzazione della matrice di output\n",
    "    output_matrix = [[] for _ in range(len(s0))]\n",
    "    \n",
    "    # Chiamata alla funzione principale\n",
    "    sardinasPattersonSi(s0, s0, len(s0), output_matrix)\n",
    "    \n",
    "    # Stampa della matrice di output\n",
    "    for i, row in enumerate(output_matrix):\n",
    "        if row:\n",
    "            print(f\"S_{i + 1}: {row}\")\n",
    "\n",
    "if __name__ == \"__main__\":\n",
    "    main()\n"
   ]
  }
 ],
 "metadata": {
  "kernelspec": {
   "display_name": "Python 3",
   "language": "python",
   "name": "python3"
  },
  "language_info": {
   "codemirror_mode": {
    "name": "ipython",
    "version": 3
   },
   "file_extension": ".py",
   "mimetype": "text/x-python",
   "name": "python",
   "nbconvert_exporter": "python",
   "pygments_lexer": "ipython3",
   "version": "3.11.3"
  }
 },
 "nbformat": 4,
 "nbformat_minor": 2
}
